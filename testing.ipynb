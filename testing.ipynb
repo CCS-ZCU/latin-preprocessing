{
 "cells": [
  {
   "cell_type": "code",
   "execution_count": 1,
   "id": "01cde763-1233-46c3-a13e-cb7b8b2d5f3a",
   "metadata": {},
   "outputs": [
    {
     "name": "stdout",
     "output_type": "stream",
     "text": [
      "An error occurred: name 'cupy' is not defined\n"
     ]
    }
   ],
   "source": [
    "import tomela"
   ]
  },
  {
   "cell_type": "code",
   "execution_count": null,
   "id": "2b2fbfee-a898-4022-8263-6b2f4e7f60df",
   "metadata": {},
   "outputs": [],
   "source": []
  }
 ],
 "metadata": {
  "kernelspec": {
   "display_name": "latin_global_kernel",
   "language": "python",
   "name": "latin_global_kernel"
  },
  "language_info": {
   "codemirror_mode": {
    "name": "ipython",
    "version": 3
   },
   "file_extension": ".py",
   "mimetype": "text/x-python",
   "name": "python",
   "nbconvert_exporter": "python",
   "pygments_lexer": "ipython3",
   "version": "3.10.12"
  }
 },
 "nbformat": 4,
 "nbformat_minor": 5
}
